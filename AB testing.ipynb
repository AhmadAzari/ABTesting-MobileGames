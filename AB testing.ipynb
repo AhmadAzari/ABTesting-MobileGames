{
 "cells": [
  {
   "cell_type": "markdown",
   "id": "c9cf8bcb",
   "metadata": {},
   "source": [
    "## Project Description </br>\n",
    "Cookie Cats is a hugely popular mobile puzzle game developed by Tactile Entertainment. It's a classic \"connect three\" style puzzle game where the player must connect tiles of the same color in order to clear the board and win the level. It also features singing cats. We're not kidding!\n",
    "\n",
    "As players progress through the game they will encounter gates that force them to wait some time before they can progress or make an in-app purchase. In this project, we will analyze the result of an A/B test where the first gate in Cookie Cats was moved from level 30 to level 40. In particular, we will analyze the impact on player retention.\n",
    "\n",
    "To complete this project, you should be comfortable working with pandas DataFrames and with using the pandas plot method. You should also have some understanding of hypothesis testing and bootstrap analysis."
   ]
  },
  {
   "cell_type": "markdown",
   "id": "a65b0608",
   "metadata": {},
   "source": [
    "### Data Description:\n",
    "The data is from 90,189 players that installed the game while the AB-test was running. The variables are:\n",
    "<ul>\n",
    "<li>userid - a unique number that identifies each player.</li>\n",
    "<li>version - whether the player was put in the control group (gate_30 - a gate at level 30) or the test group (gate_40 - a gate at level 40).</li>\n",
    "<li>sum_gamerounds - the number of game rounds played by the player during the first week after installation</li>\n",
    "<li>retention_1 - did the player come back and play 1 day after installing?</li>\n",
    "<li>retention_7 - did the player come back and play 7 days after installing?</li>\n",
    "    \n",
    "</ul> \n",
    "When a player installed the game, he or she was randomly assigned to either gate_30 or gate_40.\n",
    "<ol>\n",
    "<li>AB Testing Process</li>\n",
    "<li>Understanding business problem & data</li>\n",
    "<li>Detect and resolve problems in the data (Missing Value, Outliers, Unexpected Value)</li>\n",
    "<li>Look summary stats and plots</li>\n",
    "<li>Apply hypothesis testing and check assumptions</li><ul>\n",
    "<li>Check Normality & Homogeneity</li>\n",
    "<li>Apply tests (Shapiro, Levene Test, T-Test, Welch Test, Mann Whitney U Test)</li></ul>\n",
    "<li>Evaluate the results</li>\n",
    "<li>Make inferences</li>\n",
    "<li>Recommend business decision to your customer/director/ceo etc.</li>\n",
    "    \n",
    "</ol>    "
   ]
  },
  {
   "cell_type": "markdown",
   "id": "d4b0a501",
   "metadata": {},
   "source": [
    "## Packages and Data"
   ]
  },
  {
   "cell_type": "code",
   "execution_count": 73,
   "id": "eb9e2658",
   "metadata": {},
   "outputs": [],
   "source": [
    "import numpy as np\n",
    "import pandas as pd\n",
    "import matplotlib.pyplot as plt\n",
    "import seaborn as sns\n",
    "import statsmodels.api as sm\n",
    "\n",
    "from scipy.stats import shapiro\n",
    "import scipy.stats as stats\n",
    "\n",
    "\n",
    "import warnings\n",
    "warnings.filterwarnings('ignore')"
   ]
  },
  {
   "cell_type": "code",
   "execution_count": 74,
   "id": "1c2ed2c0",
   "metadata": {},
   "outputs": [],
   "source": [
    "df = pd.read_csv(r\".\\cookie_cats.csv\")"
   ]
  },
  {
   "cell_type": "code",
   "execution_count": 75,
   "id": "f9611dff",
   "metadata": {},
   "outputs": [
    {
     "data": {
      "text/html": [
       "<div>\n",
       "<style scoped>\n",
       "    .dataframe tbody tr th:only-of-type {\n",
       "        vertical-align: middle;\n",
       "    }\n",
       "\n",
       "    .dataframe tbody tr th {\n",
       "        vertical-align: top;\n",
       "    }\n",
       "\n",
       "    .dataframe thead th {\n",
       "        text-align: right;\n",
       "    }\n",
       "</style>\n",
       "<table border=\"1\" class=\"dataframe\">\n",
       "  <thead>\n",
       "    <tr style=\"text-align: right;\">\n",
       "      <th></th>\n",
       "      <th>userid</th>\n",
       "      <th>version</th>\n",
       "      <th>sum_gamerounds</th>\n",
       "      <th>retention_1</th>\n",
       "      <th>retention_7</th>\n",
       "    </tr>\n",
       "  </thead>\n",
       "  <tbody>\n",
       "    <tr>\n",
       "      <th>0</th>\n",
       "      <td>116</td>\n",
       "      <td>gate_30</td>\n",
       "      <td>3</td>\n",
       "      <td>False</td>\n",
       "      <td>False</td>\n",
       "    </tr>\n",
       "    <tr>\n",
       "      <th>1</th>\n",
       "      <td>337</td>\n",
       "      <td>gate_30</td>\n",
       "      <td>38</td>\n",
       "      <td>True</td>\n",
       "      <td>False</td>\n",
       "    </tr>\n",
       "    <tr>\n",
       "      <th>2</th>\n",
       "      <td>377</td>\n",
       "      <td>gate_40</td>\n",
       "      <td>165</td>\n",
       "      <td>True</td>\n",
       "      <td>False</td>\n",
       "    </tr>\n",
       "    <tr>\n",
       "      <th>3</th>\n",
       "      <td>483</td>\n",
       "      <td>gate_40</td>\n",
       "      <td>1</td>\n",
       "      <td>False</td>\n",
       "      <td>False</td>\n",
       "    </tr>\n",
       "    <tr>\n",
       "      <th>4</th>\n",
       "      <td>488</td>\n",
       "      <td>gate_40</td>\n",
       "      <td>179</td>\n",
       "      <td>True</td>\n",
       "      <td>True</td>\n",
       "    </tr>\n",
       "    <tr>\n",
       "      <th>...</th>\n",
       "      <td>...</td>\n",
       "      <td>...</td>\n",
       "      <td>...</td>\n",
       "      <td>...</td>\n",
       "      <td>...</td>\n",
       "    </tr>\n",
       "    <tr>\n",
       "      <th>90184</th>\n",
       "      <td>9999441</td>\n",
       "      <td>gate_40</td>\n",
       "      <td>97</td>\n",
       "      <td>True</td>\n",
       "      <td>False</td>\n",
       "    </tr>\n",
       "    <tr>\n",
       "      <th>90185</th>\n",
       "      <td>9999479</td>\n",
       "      <td>gate_40</td>\n",
       "      <td>30</td>\n",
       "      <td>False</td>\n",
       "      <td>False</td>\n",
       "    </tr>\n",
       "    <tr>\n",
       "      <th>90186</th>\n",
       "      <td>9999710</td>\n",
       "      <td>gate_30</td>\n",
       "      <td>28</td>\n",
       "      <td>True</td>\n",
       "      <td>False</td>\n",
       "    </tr>\n",
       "    <tr>\n",
       "      <th>90187</th>\n",
       "      <td>9999768</td>\n",
       "      <td>gate_40</td>\n",
       "      <td>51</td>\n",
       "      <td>True</td>\n",
       "      <td>False</td>\n",
       "    </tr>\n",
       "    <tr>\n",
       "      <th>90188</th>\n",
       "      <td>9999861</td>\n",
       "      <td>gate_40</td>\n",
       "      <td>16</td>\n",
       "      <td>False</td>\n",
       "      <td>False</td>\n",
       "    </tr>\n",
       "  </tbody>\n",
       "</table>\n",
       "<p>90189 rows × 5 columns</p>\n",
       "</div>"
      ],
      "text/plain": [
       "        userid  version  sum_gamerounds  retention_1  retention_7\n",
       "0          116  gate_30               3        False        False\n",
       "1          337  gate_30              38         True        False\n",
       "2          377  gate_40             165         True        False\n",
       "3          483  gate_40               1        False        False\n",
       "4          488  gate_40             179         True         True\n",
       "...        ...      ...             ...          ...          ...\n",
       "90184  9999441  gate_40              97         True        False\n",
       "90185  9999479  gate_40              30        False        False\n",
       "90186  9999710  gate_30              28         True        False\n",
       "90187  9999768  gate_40              51         True        False\n",
       "90188  9999861  gate_40              16        False        False\n",
       "\n",
       "[90189 rows x 5 columns]"
      ]
     },
     "execution_count": 75,
     "metadata": {},
     "output_type": "execute_result"
    }
   ],
   "source": [
    "df"
   ]
  },
  {
   "cell_type": "markdown",
   "id": "d43fb5f2",
   "metadata": {},
   "source": [
    "## Summary Stats"
   ]
  },
  {
   "cell_type": "code",
   "execution_count": 76,
   "id": "3665e9a8",
   "metadata": {},
   "outputs": [
    {
     "data": {
      "text/plain": [
       "userid            0\n",
       "version           0\n",
       "sum_gamerounds    0\n",
       "retention_1       0\n",
       "retention_7       0\n",
       "dtype: int64"
      ]
     },
     "execution_count": 76,
     "metadata": {},
     "output_type": "execute_result"
    }
   ],
   "source": [
    "#Lets check for any userid duplicates\n",
    "duplicates = df.userid.duplicated()\n",
    "df[duplicates].count()"
   ]
  },
  {
   "cell_type": "code",
   "execution_count": 77,
   "id": "a4156f06",
   "metadata": {},
   "outputs": [
    {
     "data": {
      "text/html": [
       "<div>\n",
       "<style scoped>\n",
       "    .dataframe tbody tr th:only-of-type {\n",
       "        vertical-align: middle;\n",
       "    }\n",
       "\n",
       "    .dataframe tbody tr th {\n",
       "        vertical-align: top;\n",
       "    }\n",
       "\n",
       "    .dataframe thead th {\n",
       "        text-align: right;\n",
       "    }\n",
       "</style>\n",
       "<table border=\"1\" class=\"dataframe\">\n",
       "  <thead>\n",
       "    <tr style=\"text-align: right;\">\n",
       "      <th></th>\n",
       "      <th>Total</th>\n",
       "      <th>Percent</th>\n",
       "    </tr>\n",
       "  </thead>\n",
       "  <tbody>\n",
       "    <tr>\n",
       "      <th>userid</th>\n",
       "      <td>0</td>\n",
       "      <td>0.0</td>\n",
       "    </tr>\n",
       "    <tr>\n",
       "      <th>version</th>\n",
       "      <td>0</td>\n",
       "      <td>0.0</td>\n",
       "    </tr>\n",
       "    <tr>\n",
       "      <th>sum_gamerounds</th>\n",
       "      <td>0</td>\n",
       "      <td>0.0</td>\n",
       "    </tr>\n",
       "    <tr>\n",
       "      <th>retention_1</th>\n",
       "      <td>0</td>\n",
       "      <td>0.0</td>\n",
       "    </tr>\n",
       "    <tr>\n",
       "      <th>retention_7</th>\n",
       "      <td>0</td>\n",
       "      <td>0.0</td>\n",
       "    </tr>\n",
       "  </tbody>\n",
       "</table>\n",
       "</div>"
      ],
      "text/plain": [
       "                Total  Percent\n",
       "userid              0      0.0\n",
       "version             0      0.0\n",
       "sum_gamerounds      0      0.0\n",
       "retention_1         0      0.0\n",
       "retention_7         0      0.0"
      ]
     },
     "execution_count": 77,
     "metadata": {},
     "output_type": "execute_result"
    }
   ],
   "source": [
    "#Lets investigate if there are any missing values\n",
    "total = df.isnull().sum().sort_values(ascending = False)\n",
    "percent = (df.isnull().sum()/df.isnull().count()).sort_values(ascending = False)\n",
    "missing_data = pd.concat([total, percent], axis = 1, keys=['Total', 'Percent'])\n",
    "missing_data.head(10)\n"
   ]
  },
  {
   "cell_type": "code",
   "execution_count": 78,
   "id": "165eabe2",
   "metadata": {},
   "outputs": [
    {
     "data": {
      "text/plain": [
       "(90189, 5)"
      ]
     },
     "execution_count": 78,
     "metadata": {},
     "output_type": "execute_result"
    }
   ],
   "source": [
    "df.shape"
   ]
  },
  {
   "cell_type": "code",
   "execution_count": 79,
   "id": "54ecb8f7",
   "metadata": {},
   "outputs": [
    {
     "data": {
      "text/plain": [
       "userid            90189\n",
       "version               2\n",
       "sum_gamerounds      942\n",
       "retention_1           2\n",
       "retention_7           2\n",
       "dtype: int64"
      ]
     },
     "execution_count": 79,
     "metadata": {},
     "output_type": "execute_result"
    }
   ],
   "source": [
    "#checking number of unique variables\n",
    "df.nunique()"
   ]
  },
  {
   "cell_type": "code",
   "execution_count": 80,
   "id": "1fc1d902",
   "metadata": {
    "scrolled": true
   },
   "outputs": [
    {
     "data": {
      "text/html": [
       "<div>\n",
       "<style scoped>\n",
       "    .dataframe tbody tr th:only-of-type {\n",
       "        vertical-align: middle;\n",
       "    }\n",
       "\n",
       "    .dataframe tbody tr th {\n",
       "        vertical-align: top;\n",
       "    }\n",
       "\n",
       "    .dataframe thead th {\n",
       "        text-align: right;\n",
       "    }\n",
       "</style>\n",
       "<table border=\"1\" class=\"dataframe\">\n",
       "  <thead>\n",
       "    <tr style=\"text-align: right;\">\n",
       "      <th></th>\n",
       "      <th>count</th>\n",
       "      <th>mean</th>\n",
       "      <th>std</th>\n",
       "      <th>min</th>\n",
       "      <th>1%</th>\n",
       "      <th>10%</th>\n",
       "      <th>20%</th>\n",
       "      <th>30%</th>\n",
       "      <th>40%</th>\n",
       "      <th>50%</th>\n",
       "      <th>60%</th>\n",
       "      <th>70%</th>\n",
       "      <th>80%</th>\n",
       "      <th>90%</th>\n",
       "      <th>99%</th>\n",
       "      <th>max</th>\n",
       "    </tr>\n",
       "  </thead>\n",
       "  <tbody>\n",
       "    <tr>\n",
       "      <th>sum_gamerounds</th>\n",
       "      <td>90189.0</td>\n",
       "      <td>51.87</td>\n",
       "      <td>195.05</td>\n",
       "      <td>0.0</td>\n",
       "      <td>0.0</td>\n",
       "      <td>1.0</td>\n",
       "      <td>3.0</td>\n",
       "      <td>6.0</td>\n",
       "      <td>11.0</td>\n",
       "      <td>16.0</td>\n",
       "      <td>25.0</td>\n",
       "      <td>40.0</td>\n",
       "      <td>67.0</td>\n",
       "      <td>134.0</td>\n",
       "      <td>493.0</td>\n",
       "      <td>49854.0</td>\n",
       "    </tr>\n",
       "  </tbody>\n",
       "</table>\n",
       "</div>"
      ],
      "text/plain": [
       "                  count   mean     std  min   1%  10%  20%  30%   40%   50%  \\\n",
       "sum_gamerounds  90189.0  51.87  195.05  0.0  0.0  1.0  3.0  6.0  11.0  16.0   \n",
       "\n",
       "                 60%   70%   80%    90%    99%      max  \n",
       "sum_gamerounds  25.0  40.0  67.0  134.0  493.0  49854.0  "
      ]
     },
     "execution_count": 80,
     "metadata": {},
     "output_type": "execute_result"
    }
   ],
   "source": [
    "# Summary Stats: sum_gamerounds\n",
    "round(df.describe([0.01, 0.1, 0.2, 0.3, 0.4, 0.5, 0.6, 0.7, 0.8, 0.9, 0.99])[[\"sum_gamerounds\"]].T,2)"
   ]
  },
  {
   "cell_type": "markdown",
   "id": "4659d3e4",
   "metadata": {},
   "source": [
    "The gamer round max is abnormally high. That is something that will be investigated."
   ]
  },
  {
   "cell_type": "code",
   "execution_count": 81,
   "id": "b6be91c9",
   "metadata": {},
   "outputs": [
    {
     "data": {
      "text/html": [
       "<div>\n",
       "<style scoped>\n",
       "    .dataframe tbody tr th:only-of-type {\n",
       "        vertical-align: middle;\n",
       "    }\n",
       "\n",
       "    .dataframe tbody tr th {\n",
       "        vertical-align: top;\n",
       "    }\n",
       "\n",
       "    .dataframe thead th {\n",
       "        text-align: right;\n",
       "    }\n",
       "</style>\n",
       "<table border=\"1\" class=\"dataframe\">\n",
       "  <thead>\n",
       "    <tr style=\"text-align: right;\">\n",
       "      <th></th>\n",
       "      <th>count</th>\n",
       "      <th>mean</th>\n",
       "      <th>median</th>\n",
       "      <th>std</th>\n",
       "      <th>min</th>\n",
       "      <th>max</th>\n",
       "    </tr>\n",
       "    <tr>\n",
       "      <th>version</th>\n",
       "      <th></th>\n",
       "      <th></th>\n",
       "      <th></th>\n",
       "      <th></th>\n",
       "      <th></th>\n",
       "      <th></th>\n",
       "    </tr>\n",
       "  </thead>\n",
       "  <tbody>\n",
       "    <tr>\n",
       "      <th>gate_30</th>\n",
       "      <td>44700</td>\n",
       "      <td>52.456264</td>\n",
       "      <td>17.0</td>\n",
       "      <td>256.716423</td>\n",
       "      <td>0</td>\n",
       "      <td>49854</td>\n",
       "    </tr>\n",
       "    <tr>\n",
       "      <th>gate_40</th>\n",
       "      <td>45489</td>\n",
       "      <td>51.298776</td>\n",
       "      <td>16.0</td>\n",
       "      <td>103.294416</td>\n",
       "      <td>0</td>\n",
       "      <td>2640</td>\n",
       "    </tr>\n",
       "  </tbody>\n",
       "</table>\n",
       "</div>"
      ],
      "text/plain": [
       "         count       mean  median         std  min    max\n",
       "version                                                  \n",
       "gate_30  44700  52.456264    17.0  256.716423    0  49854\n",
       "gate_40  45489  51.298776    16.0  103.294416    0   2640"
      ]
     },
     "execution_count": 81,
     "metadata": {},
     "output_type": "execute_result"
    }
   ],
   "source": [
    "# A/B Groups & Target Summary Stats\n",
    "df.groupby('version').sum_gamerounds.agg(['count','mean', 'median', 'std', 'min', 'max'])"
   ]
  },
  {
   "cell_type": "code",
   "execution_count": 82,
   "id": "eac7a600",
   "metadata": {},
   "outputs": [
    {
     "data": {
      "text/html": [
       "<div>\n",
       "<style scoped>\n",
       "    .dataframe tbody tr th:only-of-type {\n",
       "        vertical-align: middle;\n",
       "    }\n",
       "\n",
       "    .dataframe tbody tr th {\n",
       "        vertical-align: top;\n",
       "    }\n",
       "\n",
       "    .dataframe thead th {\n",
       "        text-align: right;\n",
       "    }\n",
       "</style>\n",
       "<table border=\"1\" class=\"dataframe\">\n",
       "  <thead>\n",
       "    <tr style=\"text-align: right;\">\n",
       "      <th></th>\n",
       "      <th>version</th>\n",
       "    </tr>\n",
       "  </thead>\n",
       "  <tbody>\n",
       "    <tr>\n",
       "      <th>gate_40</th>\n",
       "      <td>50.44</td>\n",
       "    </tr>\n",
       "    <tr>\n",
       "      <th>gate_30</th>\n",
       "      <td>49.56</td>\n",
       "    </tr>\n",
       "  </tbody>\n",
       "</table>\n",
       "</div>"
      ],
      "text/plain": [
       "         version\n",
       "gate_40    50.44\n",
       "gate_30    49.56"
      ]
     },
     "execution_count": 82,
     "metadata": {},
     "output_type": "execute_result"
    }
   ],
   "source": [
    "round(pd.DataFrame(df.version.value_counts(normalize = True)*100),2)"
   ]
  },
  {
   "cell_type": "code",
   "execution_count": 83,
   "id": "f4ee189d",
   "metadata": {},
   "outputs": [
    {
     "data": {
      "image/png": "[encoded data removed]",
      "text/plain": [
       "<Figure size 1800x600 with 4 Axes>"
      ]
     },
     "metadata": {},
     "output_type": "display_data"
    }
   ],
   "source": [
    "fig, axes = plt.subplots(1, 4, figsize = (18,6))\n",
    "df.sum_gamerounds.hist(ax = axes[0], color = \"steelblue\")\n",
    "df[(df.version == \"gate_30\")].hist(\"sum_gamerounds\", ax = axes[1], color = \"steelblue\")\n",
    "df[(df.version == \"gate_40\")].hist(\"sum_gamerounds\", ax = axes[2], color = \"steelblue\")\n",
    "sns.boxplot(x = df.version, y = df.sum_gamerounds, ax = axes[3])\n",
    "\n",
    "plt.suptitle(\"Before Removing The Extreme Value\", fontsize = 20)\n",
    "axes[0].set_title(\"Distribution of Total Game Rounds\", fontsize = 15)\n",
    "axes[1].set_title(\"Distribution of Gate 30 (A)\", fontsize = 15)\n",
    "axes[2].set_title(\"Distribution of Gate 40 (B)\", fontsize = 15)\n",
    "axes[3].set_title(\"Distribution of Two Groups\", fontsize = 15)\n",
    "\n",
    "plt.tight_layout(pad = 4);"
   ]
  },
  {
   "cell_type": "code",
   "execution_count": 84,
   "id": "11cf32bc",
   "metadata": {
    "scrolled": false
   },
   "outputs": [
    {
     "data": {
      "text/plain": [
       "<AxesSubplot: >"
      ]
     },
     "execution_count": 84,
     "metadata": {},
     "output_type": "execute_result"
    },
    {
     "data": {
      "image/png": "[encoded data removed]",
      "text/plain": [
       "<Figure size 500x500 with 1 Axes>"
      ]
     },
     "metadata": {},
     "output_type": "display_data"
    }
   ],
   "source": [
    "df['sum_gamerounds'].plot.box(figsize = (5,5))"
   ]
  },
  {
   "cell_type": "code",
   "execution_count": 13,
   "id": "0a169b5c",
   "metadata": {},
   "outputs": [
    {
     "data": {
      "text/plain": [
       "<AxesSubplot: xlabel='index'>"
      ]
     },
     "execution_count": 13,
     "metadata": {},
     "output_type": "execute_result"
    },
    {
     "data": {
      "image/png": "[encoded data removed]",
      "text/plain": [
       "<Figure size 2000x500 with 1 Axes>"
      ]
     },
     "metadata": {},
     "output_type": "display_data"
    }
   ],
   "source": [
    "df[df.version == \"gate_30\"].reset_index().set_index(\"index\").sum_gamerounds.plot(legend = True, label = \"Gate 30\", figsize = (20,5))\n",
    "df[df.version == \"gate_40\"].reset_index().set_index(\"index\").sum_gamerounds.plot(legend = True, label = \"Gate 40\")\n"
   ]
  },
  {
   "cell_type": "markdown",
   "id": "f9e8bc09",
   "metadata": {},
   "source": [
    "## Outliers\n",
    "Lets remove the outlier and investigate the distribution of data"
   ]
  },
  {
   "cell_type": "code",
   "execution_count": 14,
   "id": "aa66f2f9",
   "metadata": {},
   "outputs": [
    {
     "data": {
      "text/html": [
       "<div>\n",
       "<style scoped>\n",
       "    .dataframe tbody tr th:only-of-type {\n",
       "        vertical-align: middle;\n",
       "    }\n",
       "\n",
       "    .dataframe tbody tr th {\n",
       "        vertical-align: top;\n",
       "    }\n",
       "\n",
       "    .dataframe thead th {\n",
       "        text-align: right;\n",
       "    }\n",
       "</style>\n",
       "<table border=\"1\" class=\"dataframe\">\n",
       "  <thead>\n",
       "    <tr style=\"text-align: right;\">\n",
       "      <th></th>\n",
       "      <th>count</th>\n",
       "      <th>mean</th>\n",
       "      <th>std</th>\n",
       "      <th>min</th>\n",
       "      <th>1%</th>\n",
       "      <th>10%</th>\n",
       "      <th>20%</th>\n",
       "      <th>30%</th>\n",
       "      <th>40%</th>\n",
       "      <th>50%</th>\n",
       "      <th>60%</th>\n",
       "      <th>70%</th>\n",
       "      <th>80%</th>\n",
       "      <th>90%</th>\n",
       "      <th>99%</th>\n",
       "      <th>max</th>\n",
       "    </tr>\n",
       "  </thead>\n",
       "  <tbody>\n",
       "    <tr>\n",
       "      <th>sum_gamerounds</th>\n",
       "      <td>90188.0</td>\n",
       "      <td>51.32</td>\n",
       "      <td>102.68</td>\n",
       "      <td>0.0</td>\n",
       "      <td>0.0</td>\n",
       "      <td>1.0</td>\n",
       "      <td>3.0</td>\n",
       "      <td>6.0</td>\n",
       "      <td>11.0</td>\n",
       "      <td>16.0</td>\n",
       "      <td>25.0</td>\n",
       "      <td>40.0</td>\n",
       "      <td>67.0</td>\n",
       "      <td>134.0</td>\n",
       "      <td>493.0</td>\n",
       "      <td>2961.0</td>\n",
       "    </tr>\n",
       "  </tbody>\n",
       "</table>\n",
       "</div>"
      ],
      "text/plain": [
       "                  count   mean     std  min   1%  10%  20%  30%   40%   50%  \\\n",
       "sum_gamerounds  90188.0  51.32  102.68  0.0  0.0  1.0  3.0  6.0  11.0  16.0   \n",
       "\n",
       "                 60%   70%   80%    90%    99%     max  \n",
       "sum_gamerounds  25.0  40.0  67.0  134.0  493.0  2961.0  "
      ]
     },
     "execution_count": 14,
     "metadata": {},
     "output_type": "execute_result"
    }
   ],
   "source": [
    "df = df[df.sum_gamerounds < df.sum_gamerounds.max()]\n",
    "\n",
    "# Summary Stats: sum_gamerounds\n",
    "round(df.describe([0.01, 0.1, 0.2, 0.3, 0.4, 0.5, 0.6, 0.7, 0.8, 0.9, 0.99])[[\"sum_gamerounds\"]].T,2)"
   ]
  },
  {
   "cell_type": "code",
   "execution_count": 15,
   "id": "73c4f5c3",
   "metadata": {},
   "outputs": [
    {
     "data": {
      "text/plain": [
       "<AxesSubplot: >"
      ]
     },
     "execution_count": 15,
     "metadata": {},
     "output_type": "execute_result"
    },
    {
     "data": {
      "image/png": "[encoded data removed]",
      "text/plain": [
       "<Figure size 500x500 with 1 Axes>"
      ]
     },
     "metadata": {},
     "output_type": "display_data"
    }
   ],
   "source": [
    "df['sum_gamerounds'].plot.box(figsize = (5,5))"
   ]
  },
  {
   "cell_type": "code",
   "execution_count": 16,
   "id": "e2a99b00",
   "metadata": {},
   "outputs": [
    {
     "data": {
      "text/plain": [
       "<AxesSubplot: xlabel='index'>"
      ]
     },
     "execution_count": 16,
     "metadata": {},
     "output_type": "execute_result"
    },
    {
     "data": {
      "image/png": "[encoded data removed]",
      "text/plain": [
       "<Figure size 2000x500 with 1 Axes>"
      ]
     },
     "metadata": {},
     "output_type": "display_data"
    }
   ],
   "source": [
    "df[df.version == \"gate_30\"].reset_index().set_index(\"index\").sum_gamerounds.plot(legend = True, label = \"Gate 30\", figsize = (20,5))\n",
    "df[df.version == \"gate_40\"].reset_index().set_index(\"index\").sum_gamerounds.plot(legend = True, label = \"Gate 40\")\n"
   ]
  },
  {
   "cell_type": "markdown",
   "id": "b1eba321",
   "metadata": {},
   "source": [
    "### Exploratory Data Analysis"
   ]
  },
  {
   "cell_type": "code",
   "execution_count": 87,
   "id": "a135e54a",
   "metadata": {},
   "outputs": [],
   "source": [
    "plot_df = df.groupby('sum_gamerounds')['userid'].count()"
   ]
  },
  {
   "cell_type": "code",
   "execution_count": 86,
   "id": "0ee6ab3d",
   "metadata": {},
   "outputs": [
    {
     "data": {
      "text/plain": [
       "Text(0.5, 0, '# Game Rounds')"
      ]
     },
     "execution_count": 86,
     "metadata": {},
     "output_type": "execute_result"
    },
    {
     "data": {
      "image/png": "[encoded data removed]",
      "text/plain": [
       "<Figure size 1000x600 with 1 Axes>"
      ]
     },
     "metadata": {},
     "output_type": "display_data"
    }
   ],
   "source": [
    "%matplotlib inline\n",
    "\n",
    "ax = plot_df[:100].plot(figsize = (10,6))\n",
    "\n",
    "ax.set_title('The number of players that played 0 - 100 game rounds during the first week')\n",
    "\n",
    "ax.set_ylabel('Number of Players')\n",
    "ax.set_xlabel('# Game Rounds')"
   ]
  },
  {
   "cell_type": "code",
   "execution_count": 19,
   "id": "f94079b8",
   "metadata": {},
   "outputs": [
    {
     "data": {
      "text/plain": [
       "userid            3994\n",
       "version           3994\n",
       "sum_gamerounds    3994\n",
       "retention_1       3994\n",
       "retention_7       3994\n",
       "dtype: int64"
      ]
     },
     "execution_count": 19,
     "metadata": {},
     "output_type": "execute_result"
    }
   ],
   "source": [
    "Zero_rounds = df[df['sum_gamerounds'] == 0].count()\n",
    "Zero_rounds"
   ]
  },
  {
   "cell_type": "code",
   "execution_count": 20,
   "id": "624dc02c",
   "metadata": {},
   "outputs": [
    {
     "data": {
      "text/plain": [
       "<AxesSubplot: xlabel='sum_gamerounds', ylabel='Density'>"
      ]
     },
     "execution_count": 20,
     "metadata": {},
     "output_type": "execute_result"
    },
    {
     "data": {
      "image/png": "[encoded data removed]",
      "text/plain": [
       "<Figure size 640x480 with 1 Axes>"
      ]
     },
     "metadata": {},
     "output_type": "display_data"
    }
   ],
   "source": [
    "sns.kdeplot(df['sum_gamerounds'], shade=True)"
   ]
  },
  {
   "cell_type": "code",
   "execution_count": 88,
   "id": "276bf0f8",
   "metadata": {},
   "outputs": [
    {
     "data": {
      "image/png": "[encoded data removed]",
      "text/plain": [
       "<Figure size 640x480 with 1 Axes>"
      ]
     },
     "metadata": {},
     "output_type": "display_data"
    }
   ],
   "source": [
    "stats_df = df \\\n",
    ".groupby('sum_gamerounds') \\\n",
    "['sum_gamerounds'] \\\n",
    ".agg('count') \\\n",
    ".pipe(pd.DataFrame) \\\n",
    ".rename(columns = {'sum_gamerounds': 'frequency'})\n",
    "\n",
    "# PDF\n",
    "stats_df['pdf'] = stats_df['frequency'] / sum(stats_df['frequency'])\n",
    "\n",
    "# CDF\n",
    "stats_df['cdf'] = stats_df['pdf'].cumsum()\n",
    "stats_df = stats_df.reset_index()\n",
    "stats_df\n",
    "\n",
    "stats_df.plot(x = 'sum_gamerounds', y = 'cdf')\n",
    "plt.axhline(y=0.5,color = 'red')\n",
    "x50 = stats_df[stats_df['cdf'] >= 0.5]\n",
    "x90 = stats_df[stats_df['cdf'] >= 0.9]"
   ]
  },
  {
   "cell_type": "code",
   "execution_count": 89,
   "id": "2abb6049",
   "metadata": {},
   "outputs": [
    {
     "data": {
      "text/plain": [
       "sum_gamerounds      16.000000\n",
       "frequency         1342.000000\n",
       "pdf                  0.014880\n",
       "cdf                  0.500216\n",
       "Name: 16, dtype: float64"
      ]
     },
     "execution_count": 89,
     "metadata": {},
     "output_type": "execute_result"
    }
   ],
   "source": [
    "# at which level are 50% of the users?\n",
    "x50.iloc[0]"
   ]
  },
  {
   "cell_type": "code",
   "execution_count": 90,
   "id": "eea8ca78",
   "metadata": {
    "scrolled": false
   },
   "outputs": [
    {
     "data": {
      "text/plain": [
       "sum_gamerounds    134.000000\n",
       "frequency          80.000000\n",
       "pdf                 0.000887\n",
       "cdf                 0.900043\n",
       "Name: 134, dtype: float64"
      ]
     },
     "execution_count": 90,
     "metadata": {},
     "output_type": "execute_result"
    }
   ],
   "source": [
    "# at which level are 90% of the users?\n",
    "\n",
    "x90.iloc[0]"
   ]
  },
  {
   "cell_type": "markdown",
   "id": "7bb23074",
   "metadata": {},
   "source": [
    "<b> The users installed the game but 3994 users never played the game! Some reasons might explain this situation. </b>\n",
    "<ul>\n",
    "<li>They have no free time to play game </li>\n",
    "<li>Users might prefer to play other games or they play other games already</li>\n",
    "<li>Some users don't like the app etc.</li>\n",
    "<li>The number of users decreases as the levels progress</li>\n",
    "</ul>\n",
    "\n",
    "<b>Most of users played the game at early stage and they didn't progress.</b>\n",
    "<ul>\n",
    "<li>Tactile Entertainment should learn why users churn playing the game.</li>\n",
    "<li>Doing research and collecting data about the game and users would help to understand user churn</li>\n",
    "<li>The difficulty of the game can be measured</li>\n",
    "<li>Gifts might help player retention</li> </ul>"
   ]
  },
  {
   "cell_type": "code",
   "execution_count": 91,
   "id": "b3f762f3",
   "metadata": {},
   "outputs": [
    {
     "data": {
      "text/html": [
       "<div>\n",
       "<style scoped>\n",
       "    .dataframe tbody tr th:only-of-type {\n",
       "        vertical-align: middle;\n",
       "    }\n",
       "\n",
       "    .dataframe tbody tr th {\n",
       "        vertical-align: top;\n",
       "    }\n",
       "\n",
       "    .dataframe thead th {\n",
       "        text-align: right;\n",
       "    }\n",
       "</style>\n",
       "<table border=\"1\" class=\"dataframe\">\n",
       "  <thead>\n",
       "    <tr style=\"text-align: right;\">\n",
       "      <th></th>\n",
       "      <th>sum_gamerounds</th>\n",
       "      <th>userid</th>\n",
       "    </tr>\n",
       "  </thead>\n",
       "  <tbody>\n",
       "    <tr>\n",
       "      <th>0</th>\n",
       "      <td>0</td>\n",
       "      <td>3994</td>\n",
       "    </tr>\n",
       "    <tr>\n",
       "      <th>1</th>\n",
       "      <td>1</td>\n",
       "      <td>5538</td>\n",
       "    </tr>\n",
       "    <tr>\n",
       "      <th>2</th>\n",
       "      <td>2</td>\n",
       "      <td>4606</td>\n",
       "    </tr>\n",
       "    <tr>\n",
       "      <th>3</th>\n",
       "      <td>3</td>\n",
       "      <td>3958</td>\n",
       "    </tr>\n",
       "    <tr>\n",
       "      <th>4</th>\n",
       "      <td>4</td>\n",
       "      <td>3629</td>\n",
       "    </tr>\n",
       "    <tr>\n",
       "      <th>5</th>\n",
       "      <td>5</td>\n",
       "      <td>2992</td>\n",
       "    </tr>\n",
       "    <tr>\n",
       "      <th>6</th>\n",
       "      <td>6</td>\n",
       "      <td>2861</td>\n",
       "    </tr>\n",
       "    <tr>\n",
       "      <th>7</th>\n",
       "      <td>7</td>\n",
       "      <td>2379</td>\n",
       "    </tr>\n",
       "    <tr>\n",
       "      <th>8</th>\n",
       "      <td>8</td>\n",
       "      <td>2267</td>\n",
       "    </tr>\n",
       "    <tr>\n",
       "      <th>9</th>\n",
       "      <td>9</td>\n",
       "      <td>2013</td>\n",
       "    </tr>\n",
       "  </tbody>\n",
       "</table>\n",
       "</div>"
      ],
      "text/plain": [
       "   sum_gamerounds  userid\n",
       "0               0    3994\n",
       "1               1    5538\n",
       "2               2    4606\n",
       "3               3    3958\n",
       "4               4    3629\n",
       "5               5    2992\n",
       "6               6    2861\n",
       "7               7    2379\n",
       "8               8    2267\n",
       "9               9    2013"
      ]
     },
     "execution_count": 91,
     "metadata": {},
     "output_type": "execute_result"
    }
   ],
   "source": [
    "df.groupby('sum_gamerounds').userid.count().reset_index().head(10)"
   ]
  },
  {
   "cell_type": "code",
   "execution_count": 26,
   "id": "7cb6f5d0",
   "metadata": {
    "scrolled": true
   },
   "outputs": [
    {
     "data": {
      "text/plain": [
       "sum_gamerounds\n",
       "30    642\n",
       "40    505\n",
       "Name: userid, dtype: int64"
      ]
     },
     "execution_count": 26,
     "metadata": {},
     "output_type": "execute_result"
    }
   ],
   "source": [
    "df.groupby('sum_gamerounds').userid.count().loc[[30,40]]"
   ]
  },
  {
   "cell_type": "markdown",
   "id": "693128ef",
   "metadata": {},
   "source": [
    "Looking at the summary statistics, the control and Test groups seem similar, but are the two groups statistically significant? We will investigate this statistically."
   ]
  },
  {
   "cell_type": "code",
   "execution_count": 45,
   "id": "b0cbc63b",
   "metadata": {},
   "outputs": [
    {
     "name": "stdout",
     "output_type": "stream",
     "text": [
      "36.89 29.81\n"
     ]
    }
   ],
   "source": [
    "count30 = df[df['sum_gamerounds'] >= 30].userid.count()\n",
    "count40 = df[df['sum_gamerounds'] > 40].userid.count()\n",
    "\n",
    "total = df.count()\n",
    "\n",
    "percentage_above_30 = round(count30/total[0] *100,2)\n",
    "percentage_above_40 = round(count40/total[0] *100,2)\n",
    "\n",
    "\n",
    "print(percentage_above_30, percentage_above_40)"
   ]
  },
  {
   "cell_type": "code",
   "execution_count": 95,
   "id": "35c65f5c",
   "metadata": {},
   "outputs": [
    {
     "data": {
      "text/html": [
       "<div>\n",
       "<style scoped>\n",
       "    .dataframe tbody tr th:only-of-type {\n",
       "        vertical-align: middle;\n",
       "    }\n",
       "\n",
       "    .dataframe tbody tr th {\n",
       "        vertical-align: top;\n",
       "    }\n",
       "\n",
       "    .dataframe thead th {\n",
       "        text-align: right;\n",
       "    }\n",
       "</style>\n",
       "<table border=\"1\" class=\"dataframe\">\n",
       "  <thead>\n",
       "    <tr style=\"text-align: right;\">\n",
       "      <th></th>\n",
       "      <th>count</th>\n",
       "      <th>median</th>\n",
       "      <th>mean</th>\n",
       "      <th>std</th>\n",
       "      <th>min</th>\n",
       "      <th>max</th>\n",
       "    </tr>\n",
       "    <tr>\n",
       "      <th>version</th>\n",
       "      <th></th>\n",
       "      <th></th>\n",
       "      <th></th>\n",
       "      <th></th>\n",
       "      <th></th>\n",
       "      <th></th>\n",
       "    </tr>\n",
       "  </thead>\n",
       "  <tbody>\n",
       "    <tr>\n",
       "      <th>gate_30</th>\n",
       "      <td>44700</td>\n",
       "      <td>17.0</td>\n",
       "      <td>52.46</td>\n",
       "      <td>256.72</td>\n",
       "      <td>0</td>\n",
       "      <td>49854</td>\n",
       "    </tr>\n",
       "    <tr>\n",
       "      <th>gate_40</th>\n",
       "      <td>45489</td>\n",
       "      <td>16.0</td>\n",
       "      <td>51.30</td>\n",
       "      <td>103.29</td>\n",
       "      <td>0</td>\n",
       "      <td>2640</td>\n",
       "    </tr>\n",
       "  </tbody>\n",
       "</table>\n",
       "</div>"
      ],
      "text/plain": [
       "         count  median   mean     std  min    max\n",
       "version                                          \n",
       "gate_30  44700    17.0  52.46  256.72    0  49854\n",
       "gate_40  45489    16.0  51.30  103.29    0   2640"
      ]
     },
     "execution_count": 95,
     "metadata": {},
     "output_type": "execute_result"
    }
   ],
   "source": [
    "round(df.groupby('version').sum_gamerounds.agg(['count', 'median', 'mean', 'std', 'min', 'max']),2)"
   ]
  },
  {
   "cell_type": "code",
   "execution_count": 94,
   "id": "aec80931",
   "metadata": {
    "scrolled": true
   },
   "outputs": [
    {
     "data": {
      "text/html": [
       "<div>\n",
       "<style scoped>\n",
       "    .dataframe tbody tr th:only-of-type {\n",
       "        vertical-align: middle;\n",
       "    }\n",
       "\n",
       "    .dataframe tbody tr th {\n",
       "        vertical-align: top;\n",
       "    }\n",
       "\n",
       "    .dataframe thead th {\n",
       "        text-align: right;\n",
       "    }\n",
       "</style>\n",
       "<table border=\"1\" class=\"dataframe\">\n",
       "  <thead>\n",
       "    <tr style=\"text-align: right;\">\n",
       "      <th></th>\n",
       "      <th>RET1_COUNT</th>\n",
       "      <th>RET7_COUNT</th>\n",
       "      <th>RET1_RATIO</th>\n",
       "      <th>RET7_RATIO</th>\n",
       "    </tr>\n",
       "  </thead>\n",
       "  <tbody>\n",
       "    <tr>\n",
       "      <th>False</th>\n",
       "      <td>50036</td>\n",
       "      <td>73408</td>\n",
       "      <td>55.48</td>\n",
       "      <td>81.39</td>\n",
       "    </tr>\n",
       "    <tr>\n",
       "      <th>True</th>\n",
       "      <td>40153</td>\n",
       "      <td>16781</td>\n",
       "      <td>44.52</td>\n",
       "      <td>18.61</td>\n",
       "    </tr>\n",
       "  </tbody>\n",
       "</table>\n",
       "</div>"
      ],
      "text/plain": [
       "       RET1_COUNT  RET7_COUNT  RET1_RATIO  RET7_RATIO\n",
       "False       50036       73408       55.48       81.39\n",
       "True        40153       16781       44.52       18.61"
      ]
     },
     "execution_count": 94,
     "metadata": {},
     "output_type": "execute_result"
    }
   ],
   "source": [
    "# Retention Problem\n",
    "pd.DataFrame({\"RET1_COUNT\": round(df['retention_1'].value_counts(),2),\n",
    "              \"RET7_COUNT\": round(df[\"retention_7\"].value_counts(),2),\n",
    "              \"RET1_RATIO\": round(df[\"retention_1\"].value_counts() / len(df)*100,2),\n",
    "              \"RET7_RATIO\": round(df[\"retention_7\"].value_counts() / len(df) *100,2)})"
   ]
  },
  {
   "cell_type": "markdown",
   "id": "db6b7df3",
   "metadata": {},
   "source": [
    "<b> Retention variables gives us player retention details.</b>\n",
    "<ul>\n",
    "    <li>retention_1 - did the player come back and play 1 day after installing?</li>\n",
    "<li>retention_7 - did the player come back and play 7 days after installing?</li>\n",
    "    </ul>\n",
    "<b>Also players tend not to play the game! There are many players who quit the game.</b>\n",
    "<ul>\n",
    "<li>55 percent of the players didn't play the game 1 day after installing </li>\n",
    "<li>81 percent of the players didn't play the game 7 day after installing</li>\n",
    "       </ul>"
   ]
  },
  {
   "cell_type": "code",
   "execution_count": 96,
   "id": "da655421",
   "metadata": {},
   "outputs": [
    {
     "data": {
      "text/html": [
       "<div>\n",
       "<style scoped>\n",
       "    .dataframe tbody tr th:only-of-type {\n",
       "        vertical-align: middle;\n",
       "    }\n",
       "\n",
       "    .dataframe tbody tr th {\n",
       "        vertical-align: top;\n",
       "    }\n",
       "\n",
       "    .dataframe thead th {\n",
       "        text-align: right;\n",
       "    }\n",
       "</style>\n",
       "<table border=\"1\" class=\"dataframe\">\n",
       "  <thead>\n",
       "    <tr style=\"text-align: right;\">\n",
       "      <th></th>\n",
       "      <th></th>\n",
       "      <th>count</th>\n",
       "      <th>median</th>\n",
       "      <th>mean</th>\n",
       "      <th>std</th>\n",
       "      <th>min</th>\n",
       "      <th>max</th>\n",
       "    </tr>\n",
       "    <tr>\n",
       "      <th>version</th>\n",
       "      <th>retention_1</th>\n",
       "      <th></th>\n",
       "      <th></th>\n",
       "      <th></th>\n",
       "      <th></th>\n",
       "      <th></th>\n",
       "      <th></th>\n",
       "    </tr>\n",
       "  </thead>\n",
       "  <tbody>\n",
       "    <tr>\n",
       "      <th rowspan=\"2\" valign=\"top\">gate_30</th>\n",
       "      <th>False</th>\n",
       "      <td>24666</td>\n",
       "      <td>6.0</td>\n",
       "      <td>18.38</td>\n",
       "      <td>319.42</td>\n",
       "      <td>0</td>\n",
       "      <td>49854</td>\n",
       "    </tr>\n",
       "    <tr>\n",
       "      <th>True</th>\n",
       "      <td>20034</td>\n",
       "      <td>48.0</td>\n",
       "      <td>94.41</td>\n",
       "      <td>135.04</td>\n",
       "      <td>0</td>\n",
       "      <td>2961</td>\n",
       "    </tr>\n",
       "    <tr>\n",
       "      <th rowspan=\"2\" valign=\"top\">gate_40</th>\n",
       "      <th>False</th>\n",
       "      <td>25370</td>\n",
       "      <td>6.0</td>\n",
       "      <td>16.34</td>\n",
       "      <td>35.93</td>\n",
       "      <td>0</td>\n",
       "      <td>1241</td>\n",
       "    </tr>\n",
       "    <tr>\n",
       "      <th>True</th>\n",
       "      <td>20119</td>\n",
       "      <td>49.0</td>\n",
       "      <td>95.38</td>\n",
       "      <td>137.89</td>\n",
       "      <td>0</td>\n",
       "      <td>2640</td>\n",
       "    </tr>\n",
       "  </tbody>\n",
       "</table>\n",
       "</div>"
      ],
      "text/plain": [
       "                     count  median   mean     std  min    max\n",
       "version retention_1                                          \n",
       "gate_30 False        24666     6.0  18.38  319.42    0  49854\n",
       "        True         20034    48.0  94.41  135.04    0   2961\n",
       "gate_40 False        25370     6.0  16.34   35.93    0   1241\n",
       "        True         20119    49.0  95.38  137.89    0   2640"
      ]
     },
     "execution_count": 96,
     "metadata": {},
     "output_type": "execute_result"
    }
   ],
   "source": [
    "round(df.groupby(['version', 'retention_1']).sum_gamerounds.agg(['count', 'median', 'mean', 'std', 'min', 'max']),2)"
   ]
  },
  {
   "cell_type": "markdown",
   "id": "70ac29e7",
   "metadata": {},
   "source": [
    "Looking at the summary statistics of retention variables by version and comparing with sum_gamerounds, there are similarities between groups. However, it will be more helpful to see if there is a statistically significant difference."
   ]
  },
  {
   "cell_type": "code",
   "execution_count": 97,
   "id": "62f5b249",
   "metadata": {
    "scrolled": true
   },
   "outputs": [
    {
     "data": {
      "text/html": [
       "<div>\n",
       "<style scoped>\n",
       "    .dataframe tbody tr th:only-of-type {\n",
       "        vertical-align: middle;\n",
       "    }\n",
       "\n",
       "    .dataframe tbody tr th {\n",
       "        vertical-align: top;\n",
       "    }\n",
       "\n",
       "    .dataframe thead th {\n",
       "        text-align: right;\n",
       "    }\n",
       "</style>\n",
       "<table border=\"1\" class=\"dataframe\">\n",
       "  <thead>\n",
       "    <tr style=\"text-align: right;\">\n",
       "      <th></th>\n",
       "      <th></th>\n",
       "      <th>count</th>\n",
       "      <th>median</th>\n",
       "      <th>mean</th>\n",
       "      <th>std</th>\n",
       "      <th>min</th>\n",
       "      <th>max</th>\n",
       "    </tr>\n",
       "    <tr>\n",
       "      <th>version</th>\n",
       "      <th>retention_7</th>\n",
       "      <th></th>\n",
       "      <th></th>\n",
       "      <th></th>\n",
       "      <th></th>\n",
       "      <th></th>\n",
       "      <th></th>\n",
       "    </tr>\n",
       "  </thead>\n",
       "  <tbody>\n",
       "    <tr>\n",
       "      <th rowspan=\"2\" valign=\"top\">gate_30</th>\n",
       "      <th>False</th>\n",
       "      <td>36198</td>\n",
       "      <td>11.0</td>\n",
       "      <td>25.80</td>\n",
       "      <td>43.32</td>\n",
       "      <td>0</td>\n",
       "      <td>981</td>\n",
       "    </tr>\n",
       "    <tr>\n",
       "      <th>True</th>\n",
       "      <td>8502</td>\n",
       "      <td>105.0</td>\n",
       "      <td>165.96</td>\n",
       "      <td>568.00</td>\n",
       "      <td>0</td>\n",
       "      <td>49854</td>\n",
       "    </tr>\n",
       "    <tr>\n",
       "      <th rowspan=\"2\" valign=\"top\">gate_40</th>\n",
       "      <th>False</th>\n",
       "      <td>37210</td>\n",
       "      <td>11.0</td>\n",
       "      <td>25.86</td>\n",
       "      <td>44.41</td>\n",
       "      <td>0</td>\n",
       "      <td>2640</td>\n",
       "    </tr>\n",
       "    <tr>\n",
       "      <th>True</th>\n",
       "      <td>8279</td>\n",
       "      <td>111.0</td>\n",
       "      <td>165.65</td>\n",
       "      <td>183.79</td>\n",
       "      <td>0</td>\n",
       "      <td>2294</td>\n",
       "    </tr>\n",
       "  </tbody>\n",
       "</table>\n",
       "</div>"
      ],
      "text/plain": [
       "                     count  median    mean     std  min    max\n",
       "version retention_7                                           \n",
       "gate_30 False        36198    11.0   25.80   43.32    0    981\n",
       "        True          8502   105.0  165.96  568.00    0  49854\n",
       "gate_40 False        37210    11.0   25.86   44.41    0   2640\n",
       "        True          8279   111.0  165.65  183.79    0   2294"
      ]
     },
     "execution_count": 97,
     "metadata": {},
     "output_type": "execute_result"
    }
   ],
   "source": [
    "round(df.groupby(['version', 'retention_7']).sum_gamerounds.agg(['count', 'median', 'mean', 'std', 'min', 'max']),2)"
   ]
  },
  {
   "cell_type": "markdown",
   "id": "59144de6",
   "metadata": {},
   "source": [
    "Similar results are seen when the number of users who came and did not come 1 day and 7 days after the game was installing. Approximately 12.000 users among the total users played the game both 1 day and 7 days after installing the game. 14% of the total users include people who will continue the game in the future."
   ]
  },
  {
   "cell_type": "code",
   "execution_count": 98,
   "id": "c6a1e74c",
   "metadata": {},
   "outputs": [
    {
     "data": {
      "text/html": [
       "<div>\n",
       "<style scoped>\n",
       "    .dataframe tbody tr th:only-of-type {\n",
       "        vertical-align: middle;\n",
       "    }\n",
       "\n",
       "    .dataframe tbody tr th {\n",
       "        vertical-align: top;\n",
       "    }\n",
       "\n",
       "    .dataframe thead th {\n",
       "        text-align: right;\n",
       "    }\n",
       "</style>\n",
       "<table border=\"1\" class=\"dataframe\">\n",
       "  <thead>\n",
       "    <tr style=\"text-align: right;\">\n",
       "      <th></th>\n",
       "      <th></th>\n",
       "      <th>count</th>\n",
       "      <th>median</th>\n",
       "      <th>mean</th>\n",
       "      <th>std</th>\n",
       "      <th>max</th>\n",
       "    </tr>\n",
       "    <tr>\n",
       "      <th>version</th>\n",
       "      <th>Retention</th>\n",
       "      <th></th>\n",
       "      <th></th>\n",
       "      <th></th>\n",
       "      <th></th>\n",
       "      <th></th>\n",
       "    </tr>\n",
       "  </thead>\n",
       "  <tbody>\n",
       "    <tr>\n",
       "      <th rowspan=\"2\" valign=\"top\">gate_30</th>\n",
       "      <th>0</th>\n",
       "      <td>38024</td>\n",
       "      <td>12.0</td>\n",
       "      <td>29.38</td>\n",
       "      <td>259.99</td>\n",
       "      <td>49854</td>\n",
       "    </tr>\n",
       "    <tr>\n",
       "      <th>1</th>\n",
       "      <td>6676</td>\n",
       "      <td>127.0</td>\n",
       "      <td>183.89</td>\n",
       "      <td>189.63</td>\n",
       "      <td>2961</td>\n",
       "    </tr>\n",
       "    <tr>\n",
       "      <th rowspan=\"2\" valign=\"top\">gate_40</th>\n",
       "      <th>0</th>\n",
       "      <td>38983</td>\n",
       "      <td>12.0</td>\n",
       "      <td>28.10</td>\n",
       "      <td>48.93</td>\n",
       "      <td>2640</td>\n",
       "    </tr>\n",
       "    <tr>\n",
       "      <th>1</th>\n",
       "      <td>6506</td>\n",
       "      <td>133.0</td>\n",
       "      <td>190.28</td>\n",
       "      <td>194.22</td>\n",
       "      <td>2294</td>\n",
       "    </tr>\n",
       "  </tbody>\n",
       "</table>\n",
       "</div>"
      ],
      "text/plain": [
       "                   count  median    mean     std    max\n",
       "version Retention                                      \n",
       "gate_30 0          38024    12.0   29.38  259.99  49854\n",
       "        1           6676   127.0  183.89  189.63   2961\n",
       "gate_40 0          38983    12.0   28.10   48.93   2640\n",
       "        1           6506   133.0  190.28  194.22   2294"
      ]
     },
     "execution_count": 98,
     "metadata": {},
     "output_type": "execute_result"
    }
   ],
   "source": [
    "df[\"Retention\"] = np.where((df.retention_1 == True) & (df.retention_7 == True), 1,0)\n",
    "round(df.groupby([\"version\", \"Retention\"])[\"sum_gamerounds\"].agg([\"count\", \"median\", \"mean\", \"std\", \"max\"]),2)"
   ]
  },
  {
   "cell_type": "markdown",
   "id": "561bc3e6",
   "metadata": {},
   "source": [
    "When the retention variables are combined and the two groups are compared, the summary statistics are similar here as well"
   ]
  },
  {
   "cell_type": "code",
   "execution_count": 99,
   "id": "723d904d",
   "metadata": {},
   "outputs": [
    {
     "data": {
      "text/html": [
       "<div>\n",
       "<style scoped>\n",
       "    .dataframe tbody tr th:only-of-type {\n",
       "        vertical-align: middle;\n",
       "    }\n",
       "\n",
       "    .dataframe tbody tr th {\n",
       "        vertical-align: top;\n",
       "    }\n",
       "\n",
       "    .dataframe thead th {\n",
       "        text-align: right;\n",
       "    }\n",
       "</style>\n",
       "<table border=\"1\" class=\"dataframe\">\n",
       "  <thead>\n",
       "    <tr style=\"text-align: right;\">\n",
       "      <th></th>\n",
       "      <th>version</th>\n",
       "      <th>NewRetention</th>\n",
       "      <th>count</th>\n",
       "      <th>median</th>\n",
       "      <th>mean</th>\n",
       "      <th>std</th>\n",
       "      <th>max</th>\n",
       "    </tr>\n",
       "  </thead>\n",
       "  <tbody>\n",
       "    <tr>\n",
       "      <th>0</th>\n",
       "      <td>gate_30</td>\n",
       "      <td>False-False</td>\n",
       "      <td>22840</td>\n",
       "      <td>6.0</td>\n",
       "      <td>11.82</td>\n",
       "      <td>21.64</td>\n",
       "      <td>981</td>\n",
       "    </tr>\n",
       "    <tr>\n",
       "      <th>1</th>\n",
       "      <td>gate_30</td>\n",
       "      <td>False-True</td>\n",
       "      <td>1826</td>\n",
       "      <td>43.0</td>\n",
       "      <td>100.43</td>\n",
       "      <td>1168.68</td>\n",
       "      <td>49854</td>\n",
       "    </tr>\n",
       "    <tr>\n",
       "      <th>2</th>\n",
       "      <td>gate_30</td>\n",
       "      <td>True-False</td>\n",
       "      <td>13358</td>\n",
       "      <td>33.0</td>\n",
       "      <td>49.69</td>\n",
       "      <td>58.13</td>\n",
       "      <td>918</td>\n",
       "    </tr>\n",
       "    <tr>\n",
       "      <th>3</th>\n",
       "      <td>gate_30</td>\n",
       "      <td>True-True</td>\n",
       "      <td>6676</td>\n",
       "      <td>127.0</td>\n",
       "      <td>183.89</td>\n",
       "      <td>189.63</td>\n",
       "      <td>2961</td>\n",
       "    </tr>\n",
       "    <tr>\n",
       "      <th>4</th>\n",
       "      <td>gate_40</td>\n",
       "      <td>False-False</td>\n",
       "      <td>23597</td>\n",
       "      <td>6.0</td>\n",
       "      <td>11.91</td>\n",
       "      <td>20.90</td>\n",
       "      <td>547</td>\n",
       "    </tr>\n",
       "    <tr>\n",
       "      <th>5</th>\n",
       "      <td>gate_40</td>\n",
       "      <td>False-True</td>\n",
       "      <td>1773</td>\n",
       "      <td>47.0</td>\n",
       "      <td>75.26</td>\n",
       "      <td>94.48</td>\n",
       "      <td>1241</td>\n",
       "    </tr>\n",
       "    <tr>\n",
       "      <th>6</th>\n",
       "      <td>gate_40</td>\n",
       "      <td>True-False</td>\n",
       "      <td>13613</td>\n",
       "      <td>32.0</td>\n",
       "      <td>50.03</td>\n",
       "      <td>60.92</td>\n",
       "      <td>2640</td>\n",
       "    </tr>\n",
       "    <tr>\n",
       "      <th>7</th>\n",
       "      <td>gate_40</td>\n",
       "      <td>True-True</td>\n",
       "      <td>6506</td>\n",
       "      <td>133.0</td>\n",
       "      <td>190.28</td>\n",
       "      <td>194.22</td>\n",
       "      <td>2294</td>\n",
       "    </tr>\n",
       "  </tbody>\n",
       "</table>\n",
       "</div>"
      ],
      "text/plain": [
       "   version NewRetention  count  median    mean      std    max\n",
       "0  gate_30  False-False  22840     6.0   11.82    21.64    981\n",
       "1  gate_30   False-True   1826    43.0  100.43  1168.68  49854\n",
       "2  gate_30   True-False  13358    33.0   49.69    58.13    918\n",
       "3  gate_30    True-True   6676   127.0  183.89   189.63   2961\n",
       "4  gate_40  False-False  23597     6.0   11.91    20.90    547\n",
       "5  gate_40   False-True   1773    47.0   75.26    94.48   1241\n",
       "6  gate_40   True-False  13613    32.0   50.03    60.92   2640\n",
       "7  gate_40    True-True   6506   133.0  190.28   194.22   2294"
      ]
     },
     "execution_count": 99,
     "metadata": {},
     "output_type": "execute_result"
    }
   ],
   "source": [
    "df[\"NewRetention\"] = list(map(lambda x,y: str(x)+\"-\"+str(y), df.retention_1, df.retention_7))\n",
    "round(df.groupby([\"version\", \"NewRetention\"]).sum_gamerounds.agg([\"count\", \"median\", \"mean\", \"std\", \"max\"]).reset_index(),2)"
   ]
  },
  {
   "cell_type": "markdown",
   "id": "d4451996",
   "metadata": {},
   "source": [
    "## A/B Testing\n",
    "\n",
    "#### Assumptions: \n",
    "<ul>\n",
    "    <li> Check normaility</li>\n",
    "    <li> If Normal Distribution, check homogeneity </li> </ul>\n",
    "\n",
    "<b> Steps: </b>\n",
    "<ul>\n",
    "    <li>Split & Define Control Group & Test Group</li>\n",
    "    <li>Apply Shapiro Test for normality</li>\n",
    "    <li>If parametric apply Levene Test for homogeneity of variances</li>\n",
    "    <li>If Parametric + homogeneity of variances apply T-Test</li>\n",
    "    <li>If Parametric - homogeneity of variances apply Welch Test</li>\n",
    "    <li>If Non-parametric apply Mann Whitney U Test directly</li></ul>\n",
    "        "
   ]
  },
  {
   "cell_type": "code",
   "execution_count": 61,
   "id": "d117b3e1",
   "metadata": {},
   "outputs": [
    {
     "data": {
      "text/html": [
       "<div>\n",
       "<style scoped>\n",
       "    .dataframe tbody tr th:only-of-type {\n",
       "        vertical-align: middle;\n",
       "    }\n",
       "\n",
       "    .dataframe tbody tr th {\n",
       "        vertical-align: top;\n",
       "    }\n",
       "\n",
       "    .dataframe thead th {\n",
       "        text-align: right;\n",
       "    }\n",
       "</style>\n",
       "<table border=\"1\" class=\"dataframe\">\n",
       "  <thead>\n",
       "    <tr style=\"text-align: right;\">\n",
       "      <th></th>\n",
       "      <th>userid</th>\n",
       "      <th>version</th>\n",
       "      <th>sum_gamerounds</th>\n",
       "      <th>retention_1</th>\n",
       "      <th>retention_7</th>\n",
       "      <th>Retention</th>\n",
       "      <th>NewRetention</th>\n",
       "    </tr>\n",
       "  </thead>\n",
       "  <tbody>\n",
       "    <tr>\n",
       "      <th>0</th>\n",
       "      <td>116</td>\n",
       "      <td>A</td>\n",
       "      <td>3</td>\n",
       "      <td>False</td>\n",
       "      <td>False</td>\n",
       "      <td>0</td>\n",
       "      <td>False-False</td>\n",
       "    </tr>\n",
       "    <tr>\n",
       "      <th>1</th>\n",
       "      <td>337</td>\n",
       "      <td>A</td>\n",
       "      <td>38</td>\n",
       "      <td>True</td>\n",
       "      <td>False</td>\n",
       "      <td>0</td>\n",
       "      <td>True-False</td>\n",
       "    </tr>\n",
       "    <tr>\n",
       "      <th>2</th>\n",
       "      <td>377</td>\n",
       "      <td>B</td>\n",
       "      <td>165</td>\n",
       "      <td>True</td>\n",
       "      <td>False</td>\n",
       "      <td>0</td>\n",
       "      <td>True-False</td>\n",
       "    </tr>\n",
       "    <tr>\n",
       "      <th>3</th>\n",
       "      <td>483</td>\n",
       "      <td>B</td>\n",
       "      <td>1</td>\n",
       "      <td>False</td>\n",
       "      <td>False</td>\n",
       "      <td>0</td>\n",
       "      <td>False-False</td>\n",
       "    </tr>\n",
       "    <tr>\n",
       "      <th>4</th>\n",
       "      <td>488</td>\n",
       "      <td>B</td>\n",
       "      <td>179</td>\n",
       "      <td>True</td>\n",
       "      <td>True</td>\n",
       "      <td>1</td>\n",
       "      <td>True-True</td>\n",
       "    </tr>\n",
       "  </tbody>\n",
       "</table>\n",
       "</div>"
      ],
      "text/plain": [
       "   userid version  sum_gamerounds  retention_1  retention_7  Retention  \\\n",
       "0     116       A               3        False        False          0   \n",
       "1     337       A              38         True        False          0   \n",
       "2     377       B             165         True        False          0   \n",
       "3     483       B               1        False        False          0   \n",
       "4     488       B             179         True         True          1   \n",
       "\n",
       "  NewRetention  \n",
       "0  False-False  \n",
       "1   True-False  \n",
       "2   True-False  \n",
       "3  False-False  \n",
       "4    True-True  "
      ]
     },
     "execution_count": 61,
     "metadata": {},
     "output_type": "execute_result"
    }
   ],
   "source": [
    "df[\"version\"] = np.where(df.version == \"gate_30\", \"A\", \"B\")\n",
    "df.head()"
   ]
  },
  {
   "cell_type": "code",
   "execution_count": 70,
   "id": "65ad04c9",
   "metadata": {},
   "outputs": [
    {
     "name": "stdout",
     "output_type": "stream",
     "text": [
      "# A/B Testing Hypothesis\n",
      "H0: A == B\n",
      "H1: A != B \n",
      "\n"
     ]
    },
    {
     "data": {
      "text/html": [
       "<div>\n",
       "<style scoped>\n",
       "    .dataframe tbody tr th:only-of-type {\n",
       "        vertical-align: middle;\n",
       "    }\n",
       "\n",
       "    .dataframe tbody tr th {\n",
       "        vertical-align: top;\n",
       "    }\n",
       "\n",
       "    .dataframe thead th {\n",
       "        text-align: right;\n",
       "    }\n",
       "</style>\n",
       "<table border=\"1\" class=\"dataframe\">\n",
       "  <thead>\n",
       "    <tr style=\"text-align: right;\">\n",
       "      <th></th>\n",
       "      <th>Test Type</th>\n",
       "      <th>AB Hypothesis</th>\n",
       "      <th>p-value</th>\n",
       "      <th>Comment</th>\n",
       "    </tr>\n",
       "  </thead>\n",
       "  <tbody>\n",
       "    <tr>\n",
       "      <th>0</th>\n",
       "      <td>Non-Parametric</td>\n",
       "      <td>Fail to Reject H0</td>\n",
       "      <td>0.050892</td>\n",
       "      <td>A/B groups are similar!</td>\n",
       "    </tr>\n",
       "  </tbody>\n",
       "</table>\n",
       "</div>"
      ],
      "text/plain": [
       "        Test Type      AB Hypothesis   p-value                  Comment\n",
       "0  Non-Parametric  Fail to Reject H0  0.050892  A/B groups are similar!"
      ]
     },
     "execution_count": 70,
     "metadata": {},
     "output_type": "execute_result"
    }
   ],
   "source": [
    "# A/B Testing Function - Quick Solution\n",
    "def AB_Test(dataframe, group, target):\n",
    "    \n",
    "    # Split A/B\n",
    "    groupA = dataframe[dataframe[group] == \"A\"][target]\n",
    "    groupB = dataframe[dataframe[group] == \"B\"][target]\n",
    "    \n",
    "    # Assumption: Normality\n",
    "    ntA = shapiro(groupA)[1] < 0.05\n",
    "    ntB = shapiro(groupB)[1] < 0.05\n",
    "    # H0: Distribution is Normal! - False\n",
    "    # H1: Distribution is not Normal! - True\n",
    "    \n",
    "    if (ntA == False) & (ntB == False): # \"H0: Normal Distribution\"\n",
    "        # Parametric Test\n",
    "        # Assumption: Homogeneity of variances\n",
    "        leveneTest = stats.levene(groupA, groupB)[1] < 0.05\n",
    "        # H0: Homogeneity: False\n",
    "        # H1: Heterogeneous: True\n",
    "        \n",
    "        if leveneTest == False:\n",
    "            # Homogeneity\n",
    "            ttest = stats.ttest_ind(groupA, groupB, equal_var=True)[1]\n",
    "            # H0: M1 == M2 - False\n",
    "            # H1: M1 != M2 - True\n",
    "        else:\n",
    "            # Heterogeneous\n",
    "            ttest = stats.ttest_ind(groupA, groupB, equal_var=False)[1]\n",
    "            # H0: M1 == M2 - False\n",
    "            # H1: M1 != M2 - True\n",
    "    else:\n",
    "        # Non-Parametric Test\n",
    "        ttest = stats.mannwhitneyu(groupA, groupB)[1] \n",
    "        # H0: M1 == M2 - False\n",
    "        # H1: M1 != M2 - True\n",
    "        \n",
    "    # Result\n",
    "    temp = pd.DataFrame({\n",
    "        \"AB Hypothesis\":[ttest < 0.05], \n",
    "        \"p-value\":[ttest]\n",
    "        \n",
    "    })\n",
    "    temp[\"Test Type\"] = np.where((ntA == False) & (ntB == False), \"Parametric\", \"Non-Parametric\")\n",
    "    temp[\"AB Hypothesis\"] = np.where(temp[\"AB Hypothesis\"] == False, \"Fail to Reject H0\", \"Reject H0\")\n",
    "    temp[\"Comment\"] = np.where(temp[\"AB Hypothesis\"] == \"Fail to Reject H0\", \"A/B groups are similar!\", \"A/B groups are not similar!\")\n",
    "    \n",
    "    # Columns\n",
    "    if (ntA == False) & (ntB == False):\n",
    "        temp[\"Homogeneity\"] = np.where(leveneTest == False, \"Yes\", \"No\")\n",
    "        temp = temp[[\"Test Type\", \"Homogeneity\",\"AB Hypothesis\", \"p-value\", \"Comment\"]]\n",
    "    else:\n",
    "        temp = temp[[\"Test Type\",\"AB Hypothesis\", \"p-value\", \"Comment\"]]\n",
    "    \n",
    "    # Print Hypothesis\n",
    "    print(\"# A/B Testing Hypothesis\")\n",
    "    print(\"H0: A == B\")\n",
    "    print(\"H1: A != B\", \"\\n\")\n",
    "    \n",
    "    return temp\n",
    "    \n",
    "    \n",
    "    \n",
    "# Apply A/B Testing\n",
    "AB_Test(dataframe=df, group = \"version\", target = \"sum_gamerounds\")"
   ]
  },
  {
   "cell_type": "markdown",
   "id": "a153300a",
   "metadata": {},
   "source": [
    "### Conclusion\n",
    "<b> Remember business problem! </b>\n",
    "\n",
    "\n",
    "<u> As players progress through the game they will encounter gates that force them to wait some time before they can progress or make an in-app purchase. In this project, we will analyze the result of an A/B test where the first gate in Cookie Cats was moved from level 30 to level 40. In particular, we will analyze the impact on player retention and game rounds.</u>\n",
    "\n",
    "Firstly, we investigated relationships and structures in the data. There was no missing value problem but was one outlier problem in the data. Summary stats and plots help us to understand the data and problem.\n",
    "\n",
    "Before A/B Testing, we shared some details about game, players, problems and suggestion to our customer/director/ceo etc.\n",
    "\n",
    "After applying A/B Testing, the analysis result gives us some important information. Shapiro Testing rejected H0 for Normality assumption. Therefore we needed to apply a Non-parametric test as called Mann Whitney U to compare two groups. As a result, Mann Whitney U Testing rejected H0 hypothesis and we learned A/B groups are not similar!\n",
    "\n",
    "Briefly, There are statistically significant difference between two groups about moving first gate from level 30 to level 40 for game rounds.\n",
    "\n",
    "Which level has more advantages in terms of player retention?\n",
    "1-day and 7-day average retention are higher when the gate is at level 30 than when it is at level 40."
   ]
  },
  {
   "cell_type": "code",
   "execution_count": 100,
   "id": "96c491ac",
   "metadata": {},
   "outputs": [
    {
     "data": {
      "text/plain": [
       "(version\n",
       " gate_30    0.448188\n",
       " gate_40    0.442283\n",
       " Name: retention_1, dtype: float64,\n",
       " version\n",
       " gate_30    0.190201\n",
       " gate_40    0.182000\n",
       " Name: retention_7, dtype: float64)"
      ]
     },
     "execution_count": 100,
     "metadata": {},
     "output_type": "execute_result"
    }
   ],
   "source": [
    "df.groupby(\"version\").retention_1.mean(), df.groupby(\"version\").retention_7.mean()"
   ]
  },
  {
   "cell_type": "markdown",
   "id": "0b00c054",
   "metadata": {},
   "source": [
    "The gate should be at level 30 but average retentions look like similar. We need more data for similarity."
   ]
  }
 ],
 "metadata": {
  "kernelspec": {
   "display_name": "Python 3 (ipykernel)",
   "language": "python",
   "name": "python3"
  },
  "language_info": {
   "codemirror_mode": {
    "name": "ipython",
    "version": 3
   },
   "file_extension": ".py",
   "mimetype": "text/x-python",
   "name": "python",
   "nbconvert_exporter": "python",
   "pygments_lexer": "ipython3",
   "version": "3.8.6"
  }
 },
 "nbformat": 4,
 "nbformat_minor": 5
}
